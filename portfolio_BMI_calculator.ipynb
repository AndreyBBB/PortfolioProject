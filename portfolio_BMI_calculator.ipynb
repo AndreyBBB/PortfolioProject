{
 "cells": [
  {
   "cell_type": "code",
   "execution_count": 3,
   "id": "7a222351",
   "metadata": {
    "tags": []
   },
   "outputs": [
    {
     "name": "stdout",
     "output_type": "stream",
     "text": [
      "Hello! Welcome to the BMI calculator!\n",
      "What is your name? Michael Phelps\n",
      "Michael Phelps, do you prefer to use metric or imperial units? Please choose 'm' or 'i' m\n",
      "Please, enter your weight in kilograms 90\n",
      "Please, enter your height in meters 1.93\n",
      "Michael Phelps, your BMI is  24.16\n",
      "According to the WHO classification,\n",
      "you have Normal weight\n"
     ]
    }
   ],
   "source": [
    "# The idea of the project - YouTube channel \"Alex The Analyst\"\n",
    "# My additions - choosing between metric and imperial units, control of user's input, including type and value\n",
    "\n",
    "print(\"Hello! Welcome to the BMI calculator!\")\n",
    "name = input(\"What is your name? \")\n",
    "metric_imperial = \"\"\n",
    "while 1==1:\n",
    "    metric_imperial = input(name + \", do you prefer to use metric or imperial units? Please choose 'm' or 'i' \")\n",
    "    if metric_imperial == \"m\" or metric_imperial == \"i\":\n",
    "        break\n",
    "weight = \"\"\n",
    "height = \"\"\n",
    "\n",
    "def is_float(num): #new function to check if the input is a number (float)\n",
    "    try:\n",
    "        float(num)\n",
    "        return True\n",
    "    except ValueError:\n",
    "        return False\n",
    "\n",
    "while 1==1:\n",
    "    if metric_imperial == \"m\":\n",
    "        weight = input(\"Please, enter your weight in kilograms \")\n",
    "        height = input(\"Please, enter your height in meters \")\n",
    "        if is_float(height) and float(height) > 0 and is_float(weight) and float(weight) > 0:\n",
    "            break\n",
    "    else:\n",
    "        weight = input(\"Please, enter your weight in pounds \")\n",
    "        height = input(\"Please, enter your height in inches \")\n",
    "        if is_float(height) and float(height) > 0 and is_float(weight) and float(weight) > 0:\n",
    "            break\n",
    "    print(\"Please, enter correct numbers, \" + name)\n",
    "    \n",
    "if metric_imperial == \"m\":\n",
    "    BMI = round(float(weight)/(float(height)**2),2)\n",
    "else:\n",
    "    BMI = round((float(weight)*703)/(float(height)**2),2)\n",
    "print (name + \", your BMI is \", BMI)\n",
    "print (\"According to the WHO classification,\")\n",
    "if BMI < 6.7:\n",
    "    print(\"either you are already dead of starvation or you have entered the wrong numbers\") \n",
    "elif BMI < 18.5:\n",
    "    print(\"you are Underweight\")\n",
    "elif BMI <25:\n",
    "    print(\"you have Normal weight\")\n",
    "elif BMI <30:\n",
    "    print(\"you are Overweight\")\n",
    "elif BMI <35:\n",
    "    print(\"you have Obesity, Class I\")\n",
    "elif BMI <40:\n",
    "    print(\"you have Obesity, Class II\")\n",
    "elif BMI <187:\n",
    "    print(\"you have Obesity, Class III\")\n",
    "else:\n",
    "    print(\"either you are going to hit the Guiness World Record of BMI or you have entered the wrong numbers\")\n",
    "# world record of BMI is 186 according to Google\n",
    "# the lowest reported BMI was only 6.7 according to the National Library of Medicine https://pubmed.ncbi.nlm.nih.gov/"
   ]
  },
  {
   "cell_type": "code",
   "execution_count": 26,
   "id": "e2201196",
   "metadata": {},
   "outputs": [
    {
     "name": "stdout",
     "output_type": "stream",
     "text": [
      "enter w and h, using SPACE between them1 6\n",
      "1 6\n"
     ]
    }
   ],
   "source": [
    "# didn't use this part here\n",
    "# can be used to allow users to input ft + in or st + lb and convert them later\n",
    "ww,hh=input('enter w and h, using SPACE between them ').split() \n",
    "print (ww,hh)"
   ]
  },
  {
   "cell_type": "code",
   "execution_count": null,
   "id": "d77011e7",
   "metadata": {},
   "outputs": [],
   "source": [
    "# information about BMI\n",
    "Classification\tBMI\n",
    "Underweight\tBelow 18.5\n",
    "Normal\t18.5-24.9\n",
    "Overweight\t25.0-29.9\n",
    "Obesity\t30 and above\n",
    "Class I\t30.0-34.9\n",
    "Class II\t35.0-39.9\n",
    "Class III\t40 and above\n"
   ]
  }
 ],
 "metadata": {
  "kernelspec": {
   "display_name": "Python 3 (ipykernel)",
   "language": "python",
   "name": "python3"
  },
  "language_info": {
   "codemirror_mode": {
    "name": "ipython",
    "version": 3
   },
   "file_extension": ".py",
   "mimetype": "text/x-python",
   "name": "python",
   "nbconvert_exporter": "python",
   "pygments_lexer": "ipython3",
   "version": "3.11.5"
  }
 },
 "nbformat": 4,
 "nbformat_minor": 5
}
